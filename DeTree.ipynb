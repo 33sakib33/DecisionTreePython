{
 "cells": [
  {
   "cell_type": "code",
   "execution_count": 6,
   "id": "91711ad2",
   "metadata": {},
   "outputs": [],
   "source": [
    "import pandas as pd\n",
    "import numpy as np\n",
    "import matplotlib.pyplot as plt\n",
    "from sklearn.tree import DecisionTreeClassifier\n",
    "from sklearn.model_selection import train_test_split\n",
    "from sklearn.tree import plot_tree\n",
    "from sklearn.model_selection import cross_val_score\n",
    "from sklearn.metrics import confusion_matrix\n",
    "from sklearn.metrics import plot_confusion_matrix\n",
    "\n",
    "class node:\n",
    "    def __init__(self, featureIndex=None,right=None,left=None, gain=None,data=None):\n",
    "        self.right=right\n",
    "        self.left=left\n",
    "        self.data=data\n",
    "        self.featureIndex=featureIndex\n",
    "        self.gain=gain\n",
    "    def printTree(self, level=0):\n",
    "        if self.data:\n",
    "            print(level,\" \", self.data)\n",
    "            if self.left:\n",
    "                self.left.printTree(level+1)\n",
    "            if self.right:\n",
    "                self.right.printTree(level+1)\n",
    "def preprocess():\n",
    "    # reading csv files\n",
    "    names= [\"class\",\"Alcohol\", \"Malic acid\"\n",
    "    ,\"Ash\",\n",
    "     \"Alcalinity of ash\",  \n",
    "    \"Magnesium\",\n",
    "    \"Total phenols\",\n",
    "    \"Flavanoids\",\n",
    "    \"Nonflavanoid phenols\",\n",
    "      \"Proanthocyanins\",\n",
    "    \"Color intensity\",\n",
    "     \"Hue\",\n",
    "     \"OD280/OD315 of diluted wines\",\n",
    "    \"Proline\" ]\n",
    "    data =  pd.read_csv('wine.data', sep=\",\")\n",
    "    data.columns=names\n",
    "    X= data.iloc[:,1:15];\n",
    "    Y=data.iloc[:,0:1];\n",
    "    X_train, X_test, Y_train, Y_test= train_test_split(X,Y,test_size=0.1,random_state=42)"
   ]
  },
  {
   "cell_type": "code",
   "execution_count": 2,
   "id": "2f4a5c58",
   "metadata": {},
   "outputs": [
    {
     "ename": "SyntaxError",
     "evalue": "unexpected EOF while parsing (Temp/ipykernel_3796/1017265242.py, line 3)",
     "output_type": "error",
     "traceback": [
      "\u001b[1;36m  File \u001b[1;32m\"C:\\Users\\Sakib\\AppData\\Local\\Temp/ipykernel_3796/1017265242.py\"\u001b[1;36m, line \u001b[1;32m3\u001b[0m\n\u001b[1;33m    \u001b[0m\n\u001b[1;37m    ^\u001b[0m\n\u001b[1;31mSyntaxError\u001b[0m\u001b[1;31m:\u001b[0m unexpected EOF while parsing\n"
     ]
    }
   ],
   "source": [
    "class builderTree:\n",
    "    def __init__(self,depthLimit=float(\"inf\")):\n",
    "        self.depthLimit=depthLimit\n",
    "        self.root=None\n",
    "    def fit(self, featureX, classY):\n",
    "        self.root=self.buildTree(featureX,classY)\n",
    "    def buildTree(feautreX,classY,depth=0):\n",
    "        infoGain=-1\n",
    "        thresh=-1\n",
    "        index=-1\n",
    "        if len(classY) == 0:\n",
    "            return None\n",
    "        elif len(classY)== 1:\n",
    "            return node(None, None, None,0,classY[0])\n",
    "        elif np.all(classY[0]==classy[:]):\n",
    "            return node(None, None, None,0,classy[0])\n",
    "        else:\n",
    "            for colItr in range(classX.shape[1]):\n",
    "                allvalues = features[:, colItr]\n",
    "                colMean = np.mean(allvalues)\n",
    "                xLeft, yLeft, xRight, yRight= makePartition(featureX,classY,colItr,colMean)\n",
    "            infoGain2=infoGainCalc(classY,yLeft,Yright)\n",
    "                \n",
    "def makePartition(featureX, classY, compareIdx, colMean):\n",
    "    retLeftX=[]\n",
    "    retLeftY=[]\n",
    "    retRightX=[]\n",
    "    retRightY=[]\n",
    "\n",
    "    for itr in range(len(featureX)):\n",
    "        if featureX[itr][compareIdx]<colMean:\n",
    "            retLeftX.append(featureX[itr])\n",
    "            retLeftY.append(classY[itr])\n",
    "        else:\n",
    "            retRightX.append(featureX[itr])\n",
    "            retRightY.append(classY[itr])\n",
    "    return retLeftX, retLeftY, retRightX, retRightY\n",
    "\n",
    "def infoGainCalc(classY, yLeft, yRight):\n",
    "    \n",
    "                \n",
    "        \n",
    "        \n",
    "\n",
    "        "
   ]
  },
  {
   "cell_type": "code",
   "execution_count": 3,
   "id": "ef837bd2",
   "metadata": {},
   "outputs": [],
   "source": []
  },
  {
   "cell_type": "code",
   "execution_count": null,
   "id": "c2a5b70e",
   "metadata": {},
   "outputs": [],
   "source": []
  },
  {
   "cell_type": "code",
   "execution_count": 20,
   "id": "403a53ed",
   "metadata": {},
   "outputs": [
    {
     "data": {
      "text/plain": [
       "0.0"
      ]
     },
     "execution_count": 20,
     "metadata": {},
     "output_type": "execute_result"
    }
   ],
   "source": []
  },
  {
   "cell_type": "code",
   "execution_count": null,
   "id": "9706cf7a",
   "metadata": {},
   "outputs": [],
   "source": []
  }
 ],
 "metadata": {
  "kernelspec": {
   "display_name": "Python 3 (ipykernel)",
   "language": "python",
   "name": "python3"
  },
  "language_info": {
   "codemirror_mode": {
    "name": "ipython",
    "version": 3
   },
   "file_extension": ".py",
   "mimetype": "text/x-python",
   "name": "python",
   "nbconvert_exporter": "python",
   "pygments_lexer": "ipython3",
   "version": "3.8.5"
  }
 },
 "nbformat": 4,
 "nbformat_minor": 5
}
